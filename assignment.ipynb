{
 "cells": [
  {
   "cell_type": "code",
   "execution_count": 32,
   "metadata": {},
   "outputs": [],
   "source": [
    "import json\n",
    "import requests\n",
    "import anthropic\n",
    "from anthropic.types import TextBlock  # Import TextBlock type"
   ]
  },
  {
   "cell_type": "code",
   "execution_count": 33,
   "metadata": {},
   "outputs": [],
   "source": [
    "# Download the JSON file\n",
    "url = \"https://clchatagentassessment.s3.ap-south-1.amazonaws.com/queries.json\"\n",
    "response = requests.get(url)\n",
    "data = response.json()"
   ]
  },
  {
   "cell_type": "code",
   "execution_count": 34,
   "metadata": {},
   "outputs": [],
   "source": [
    "# Initialize Anthropic API\n",
    "client = anthropic.Anthropic(api_key=\"your-api-key\")\n",
    "\n",
    "system_message = \"\"\"<system_message>\n",
    "You are an AI assistant for Curelink, a healthcare company providing personalized care for patients with conditions like PCOS, Preconception, and Pregnancy. Your role is to review meal pictures and descriptions sent by patients on WhatsApp and provide feedback based on their prescribed diet chart, medical profile, and overall health goals.\n",
    "Follow these comprehensive guidelines:\n",
    "<guidelines>\n",
    "\n",
    "Meal Compliance: Compare the meal to the prescribed diet chart for that specific day and time. Note missing or extra items.\n",
    "Patient-Specific Considerations: Factor in medical profile, food preferences, allergies, and dietary restrictions.\n",
    "Nutritional Analysis: Evaluate nutritional balance (proteins, carbs, fats, vitamins, minerals).\n",
    "Timing and Frequency: Consider meal timing in relation to the prescribed eating schedule.\n",
    "Hydration: Remind about proper hydration when relevant.\n",
    "Actionable Advice: Provide specific, practical suggestions for improvement.\n",
    "Positive Reinforcement: Acknowledge efforts and encourage adherence to the diet plan.\n",
    "Cultural Sensitivity: Be mindful of cultural dietary practices and preferences.\n",
    "Education: Briefly explain the rationale behind suggestions to promote understanding.\n",
    "Communication Style: Match the patient's language style and tone.\n",
    "Conciseness: Keep responses brief, typically 2-4 sentences.\n",
    "Holistic Approach: Occasionally mention other lifestyle factors like exercise and sleep.\n",
    "Safety and Disclaimers: Suggest consulting the care team for concerning patterns.\n",
    "Personalization: Use the patient's name and reference specific details from their profile.\n",
    "</guidelines>\n",
    "\n",
    "\n",
    "</system_message>\n",
    "<prompt>\n",
    "Patient Name: {patient_name}\n",
    "Condition: {condition}\n",
    "Diet Plan: {diet_plan}\n",
    "Current Meal: {meal_description}\n",
    "Time of Day: {time}\n",
    "Recent Chat History: {chat_history}\n",
    "Based on the patient context and the current meal, provide a response following the guidelines. Consider:\n",
    "\n",
    "How well does the meal align with the prescribed diet?\n",
    "Are there any improvements or adjustments needed?\n",
    "What positive aspects of the meal can you reinforce?\n",
    "Is there any relevant advice based on the patient's condition or recent chat history?\n",
    "\n",
    "Respond in a friendly, supportive manner while providing accurate and helpful feedback.\n",
    "</prompt>\"\"\""
   ]
  },
  {
   "cell_type": "code",
   "execution_count": 35,
   "metadata": {},
   "outputs": [],
   "source": [
    "def generate_response(prompt, patient_context):\n",
    "    response = client.messages.create(\n",
    "        model=\"claude-3-5-sonnet-20240620\",\n",
    "        max_tokens=4096,\n",
    "        temperature=0,\n",
    "        system=system_message + \"\\n\\nPatient Context: \" + patient_context,\n",
    "        messages=[\n",
    "            {\"role\": \"user\", \"content\": prompt}\n",
    "        ]\n",
    "    )\n",
    "    return response.content\n",
    "\n",
    "def convert_to_serializable(obj):\n",
    "    if isinstance(obj, TextBlock):\n",
    "        return str(obj)\n",
    "    raise TypeError(f'Object of type {obj.__class__.__name__} is not JSON serializable')\n",
    "\n",
    "output = []"
   ]
  },
  {
   "cell_type": "code",
   "execution_count": null,
   "metadata": {},
   "outputs": [],
   "source": [
    "for query in data:\n",
    "    ticket_id = query['chat_context']['ticket_id']\n",
    "    latest_query = query['latest_query']\n",
    "    ideal_response = query['ideal_response']\n",
    "\n",
    "    # Prepare patient context\n",
    "    patient_profile = query['profile_context']['patient_profile']\n",
    "    diet_chart = query['profile_context']['diet_chart']\n",
    "    chat_history = query['chat_context']['chat_history']\n",
    "\n",
    "    patient_context = f\"\"\"\n",
    "    Patient Profile: {patient_profile}\n",
    "    Diet Chart: {diet_chart}\n",
    "    Chat History: {chat_history}\n",
    "    \"\"\"\n",
    "\n",
    "    # Prepare prompt\n",
    "    prompt = f\"Latest query: {latest_query}\\n\\nBased on the patient context and the latest query, provide a response following the guidelines.\"\n",
    "\n",
    "    # Generate response\n",
    "    generated_response = generate_response(prompt, patient_context)\n",
    "\n",
    "    # Store the result\n",
    "    output.append({\n",
    "        \"ticket_id\": ticket_id,\n",
    "        \"latest_query\": latest_query,\n",
    "        \"generated_response\": generated_response,\n",
    "        \"ideal_response\": ideal_response\n",
    "    })\n",
    "\n",
    "# Save output to JSON file\n",
    "with open('output.json', 'w') as f:\n",
    "    json.dump(output, f, indent=2, default=convert_to_serializable)\n",
    "\n",
    "print(\"Responses generated and saved to output.json\")"
   ]
  }
 ],
 "metadata": {
  "kernelspec": {
   "display_name": ".venv",
   "language": "python",
   "name": "python3"
  },
  "language_info": {
   "codemirror_mode": {
    "name": "ipython",
    "version": 3
   },
   "file_extension": ".py",
   "mimetype": "text/x-python",
   "name": "python",
   "nbconvert_exporter": "python",
   "pygments_lexer": "ipython3",
   "version": "3.12.4"
  }
 },
 "nbformat": 4,
 "nbformat_minor": 2
}
